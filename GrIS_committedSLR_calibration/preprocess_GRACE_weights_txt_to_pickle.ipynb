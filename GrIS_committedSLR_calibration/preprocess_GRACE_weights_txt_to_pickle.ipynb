{
 "cells": [
  {
   "cell_type": "code",
   "execution_count": 1,
   "id": "pediatric-fraud",
   "metadata": {},
   "outputs": [],
   "source": [
    "import os\n",
    "import shutil\n",
    "\n",
    "import boto3\n",
    "import numpy as np\n",
    "import pickle"
   ]
  },
  {
   "cell_type": "code",
   "execution_count": 11,
   "id": "removed-candidate",
   "metadata": {},
   "outputs": [],
   "source": [
    "# Read GRACE weights (from Isabel Nias)\n",
    "s3client = boto3.client('s3',region_name='us-west-2')\n",
    "\n",
    "#fileobj = s3client.get_object(Bucket='dh-gapc', Key='GrIS_committed_SLR/weights_GRACE.txt') \n",
    "#lines = fileobj['Body'].read().decode('utf-8').splitlines()\n",
    "\n",
    "fileobj = open('results/weights_GRACE_2022-08-12.txt', 'r')\n",
    "lines = fileobj.read().splitlines()\n",
    "\n",
    "header = lines[0]\n",
    "ensembleIDs = list()\n",
    "weights_mv = list()\n",
    "weights_mv_sigmamodx4 = list()\n",
    "weights_mv_sigmamodx8 = list()\n",
    "\n",
    "for line in lines[1:]:\n",
    "    line = line.replace('\"','').split()\n",
    "    ensembleIDs.append(line[0])\n",
    "    weights_mv.append(float(line[1]))\n",
    "    weights_mv_sigmamodx4.append(float(line[2]))\n",
    "    weights_mv_sigmamodx8.append(float(line[3]))\n",
    "\n",
    "weights_mv = np.array(weights_mv)\n",
    "weights_mv_sigmamodx4 = np.array(weights_mv_sigmamodx4)\n",
    "weights_mv_sigmamodx8 = np.array(weights_mv_sigmamodx8)\n"
   ]
  },
  {
   "cell_type": "code",
   "execution_count": 12,
   "id": "prepared-hamburg",
   "metadata": {},
   "outputs": [],
   "source": [
    "# Write results files (pickle and description)\n",
    "if os.path.isdir('results/mass/'):\n",
    "    shutil.rmtree('results/mass/')\n",
    "\n",
    "os.mkdir('results/mass/')\n",
    "\n",
    "run_description = 'start_year = 2007; end_year = 2015; grid_size = N/A; residual_sigma_multiplier = ???;'\n",
    "\n",
    "txt_file = open('results/mass/description.txt', 'w')\n",
    "txt_file.write(run_description)\n",
    "txt_file.close()\n",
    "\n",
    "pickle.dump({'s_j': None, 'w_j': weights_mv}, open('results/mass/weights.p', 'wb'))\n"
   ]
  },
  {
   "cell_type": "code",
   "execution_count": 14,
   "id": "neural-prisoner",
   "metadata": {},
   "outputs": [],
   "source": [
    "# Write results files (pickle and description)\n",
    "if os.path.isdir('results/mass_sigmamodx4/'):\n",
    "    shutil.rmtree('results/mass_sigmamodx4/')\n",
    "\n",
    "os.mkdir('results/mass_sigmamodx4/')\n",
    "\n",
    "run_description = 'start_year = 2007; end_year = 2015; grid_size = N/A; residual_sigma_multiplier = 4;'\n",
    "\n",
    "txt_file = open('results/mass_sigmamodx4/description.txt', 'w')\n",
    "txt_file.write(run_description)\n",
    "txt_file.close()\n",
    "\n",
    "pickle.dump({'s_j': None, 'w_j': weights_mv_sigmamodx10}, open('results/mass_sigmamodx4/weights.p', 'wb'))\n"
   ]
  },
  {
   "cell_type": "code",
   "execution_count": 15,
   "id": "cutting-ribbon",
   "metadata": {},
   "outputs": [],
   "source": [
    "# Write results files (pickle and description)\n",
    "if os.path.isdir('results/mass_sigmamodx8/'):\n",
    "    shutil.rmtree('results/mass_sigmamodx8/')\n",
    "\n",
    "os.mkdir('results/mass_sigmamodx8/')\n",
    "\n",
    "run_description = 'start_year = 2007; end_year = 2015; grid_size = N/A; residual_sigma_multiplier = 8;'\n",
    "\n",
    "txt_file = open('results/mass_sigmamodx8/description.txt', 'w')\n",
    "txt_file.write(run_description)\n",
    "txt_file.close()\n",
    "\n",
    "pickle.dump({'s_j': None, 'w_j': weights_mv_sigmamodx20}, open('results/mass_sigmamodx8/weights.p', 'wb'))\n"
   ]
  },
  {
   "cell_type": "code",
   "execution_count": null,
   "id": "macro-documentary",
   "metadata": {},
   "outputs": [],
   "source": []
  }
 ],
 "metadata": {
  "kernelspec": {
   "display_name": "Python 3",
   "language": "python",
   "name": "python3"
  },
  "language_info": {
   "codemirror_mode": {
    "name": "ipython",
    "version": 3
   },
   "file_extension": ".py",
   "mimetype": "text/x-python",
   "name": "python",
   "nbconvert_exporter": "python",
   "pygments_lexer": "ipython3",
   "version": "3.8.8"
  }
 },
 "nbformat": 4,
 "nbformat_minor": 5
}
