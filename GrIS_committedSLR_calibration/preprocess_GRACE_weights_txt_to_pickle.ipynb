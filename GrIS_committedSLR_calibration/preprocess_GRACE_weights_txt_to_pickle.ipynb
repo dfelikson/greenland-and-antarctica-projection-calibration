{
 "cells": [
  {
   "cell_type": "code",
   "execution_count": 1,
   "id": "digital-things",
   "metadata": {},
   "outputs": [],
   "source": [
    "import os\n",
    "import shutil\n",
    "\n",
    "import numpy as np\n",
    "import pickle"
   ]
  },
  {
   "cell_type": "code",
   "execution_count": 2,
   "id": "split-protection",
   "metadata": {},
   "outputs": [],
   "source": [
    "# Read GRACE weights (from Isabel Nias)\n",
    "#s3client = boto3.client('s3',region_name='us-west-2')\n",
    "\n",
    "#fileobj = s3client.get_object(Bucket='dh-gapc', Key='GrIS_committed_SLR/weights_GRACE.txt') \n",
    "#lines = fileobj['Body'].read().decode('utf-8').splitlines()\n",
    "\n",
    "fileobj = open('results/weights_GRACE_2023-05-08.csv', 'r')\n",
    "lines = fileobj.read().splitlines()\n",
    "\n",
    "header = lines[0]\n",
    "ensembleIDs = list()\n",
    "weights_mv_sigmamodx2 = list()\n",
    "weights_mv_sigmamodx4 = list()\n",
    "weights_mv_sigmamodx8 = list()\n",
    "\n",
    "for line in lines[1:]:\n",
    "    line = line.replace('\"','').split(',')\n",
    "    ensembleIDs.append(line[0])\n",
    "    weights_mv_sigmamodx2.append(float(line[1]))\n",
    "    weights_mv_sigmamodx4.append(float(line[2]))\n",
    "    weights_mv_sigmamodx8.append(float(line[3]))\n",
    "\n",
    "weights_mv_sigmamodx2 = np.array(weights_mv_sigmamodx2)\n",
    "weights_mv_sigmamodx4 = np.array(weights_mv_sigmamodx4)\n",
    "weights_mv_sigmamodx8 = np.array(weights_mv_sigmamodx8)\n"
   ]
  },
  {
   "cell_type": "code",
   "execution_count": 3,
   "id": "prescription-assist",
   "metadata": {},
   "outputs": [
    {
     "data": {
      "text/plain": [
       "(array([74., 10., 11., 10.,  7.,  7., 11.,  5.,  2.,  0.,  0.,  0.,  0.,\n",
       "         0.,  0.,  0.,  0.,  0.,  0.,  0.,  0.,  0.,  0.,  0.,  0.,  0.,\n",
       "         0.,  0.,  0.,  0.,  0.,  0.,  0.,  0.,  0.,  0.,  0.,  0.,  0.,\n",
       "         0.,  0.,  0.,  0.,  0.,  0.,  0.,  0.,  0.,  0.,  0.,  0.,  0.,\n",
       "         0.,  0.,  0.,  0.,  0.,  0.,  0.,  0.,  0.,  0.,  0.,  0.,  0.,\n",
       "         0.,  0.,  0.,  0.,  0.,  0.,  0.,  0.,  0.,  0.,  0.,  0.,  0.,\n",
       "         0.,  0.]),\n",
       " array([0.        , 0.00345192, 0.00690384, 0.01035576, 0.01380769,\n",
       "        0.01725961, 0.02071153, 0.02416345, 0.02761537, 0.03106729,\n",
       "        0.03451921, 0.03797114, 0.04142306, 0.04487498, 0.0483269 ,\n",
       "        0.05177882, 0.05523074, 0.05868267, 0.06213459, 0.06558651,\n",
       "        0.06903843, 0.07249035, 0.07594227, 0.07939419, 0.08284612,\n",
       "        0.08629804, 0.08974996, 0.09320188, 0.0966538 , 0.10010572,\n",
       "        0.10355764, 0.10700957, 0.11046149, 0.11391341, 0.11736533,\n",
       "        0.12081725, 0.12426917, 0.12772109, 0.13117302, 0.13462494,\n",
       "        0.13807686, 0.14152878, 0.1449807 , 0.14843262, 0.15188454,\n",
       "        0.15533647, 0.15878839, 0.16224031, 0.16569223, 0.16914415,\n",
       "        0.17259607, 0.176048  , 0.17949992, 0.18295184, 0.18640376,\n",
       "        0.18985568, 0.1933076 , 0.19675952, 0.20021145, 0.20366337,\n",
       "        0.20711529, 0.21056721, 0.21401913, 0.21747105, 0.22092297,\n",
       "        0.2243749 , 0.22782682, 0.23127874, 0.23473066, 0.23818258,\n",
       "        0.2416345 , 0.24508642, 0.24853835, 0.25199027, 0.25544219,\n",
       "        0.25889411, 0.26234603, 0.26579795, 0.26924988, 0.2727018 ,\n",
       "        0.27615372]),\n",
       " <BarContainer object of 80 artists>)"
      ]
     },
     "execution_count": 3,
     "metadata": {},
     "output_type": "execute_result"
    },
    {
     "data": {
      "image/png": "[encoded data removed]",
      "text/plain": [
       "<Figure size 432x288 with 1 Axes>"
      ]
     },
     "metadata": {
      "needs_background": "light"
     },
     "output_type": "display_data"
    }
   ],
   "source": [
    "from matplotlib import pyplot as plt\n",
    "\n",
    "bins = np.histogram(np.hstack((weights_mv_sigmamodx2,weights_mv_sigmamodx8)), bins=80)[1]\n",
    "\n",
    "plt.hist(weights_mv_sigmamodx2, bins=bins, alpha=0.5)\n",
    "plt.hist(weights_mv_sigmamodx8, bins=bins, alpha=0.5)\n"
   ]
  },
  {
   "cell_type": "code",
   "execution_count": 4,
   "id": "arranged-electron",
   "metadata": {},
   "outputs": [],
   "source": [
    "# Write results files (pickle and description)\n",
    "if os.path.isdir('results/mass_sigmamodx2/'):\n",
    "    shutil.rmtree('results/mass_sigmamodx2/')\n",
    "\n",
    "os.mkdir('results/mass_sigmamodx2/')\n",
    "\n",
    "run_description = 'start_year = 2007; end_year = 2015; grid_size = N/A; residual_sigma_multiplier = 2;'\n",
    "\n",
    "txt_file = open('results/mass_sigmamodx2/description.txt', 'w')\n",
    "txt_file.write(run_description)\n",
    "txt_file.close()\n",
    "\n",
    "pickle.dump({'s_j': None, 'w_j': weights_mv_sigmamodx2}, open('results/mass_sigmamodx2/weights.p', 'wb'))\n"
   ]
  },
  {
   "cell_type": "code",
   "execution_count": 5,
   "id": "metropolitan-coverage",
   "metadata": {},
   "outputs": [],
   "source": [
    "# Write results files (pickle and description)\n",
    "if os.path.isdir('results/mass_sigmamodx4/'):\n",
    "    shutil.rmtree('results/mass_sigmamodx4/')\n",
    "\n",
    "os.mkdir('results/mass_sigmamodx4/')\n",
    "\n",
    "run_description = 'start_year = 2007; end_year = 2015; grid_size = N/A; residual_sigma_multiplier = 4;'\n",
    "\n",
    "txt_file = open('results/mass_sigmamodx4/description.txt', 'w')\n",
    "txt_file.write(run_description)\n",
    "txt_file.close()\n",
    "\n",
    "pickle.dump({'s_j': None, 'w_j': weights_mv_sigmamodx4}, open('results/mass_sigmamodx4/weights.p', 'wb'))\n"
   ]
  },
  {
   "cell_type": "code",
   "execution_count": 6,
   "id": "talented-stock",
   "metadata": {},
   "outputs": [],
   "source": [
    "# Write results files (pickle and description)\n",
    "if os.path.isdir('results/mass_sigmamodx8/'):\n",
    "    shutil.rmtree('results/mass_sigmamodx8/')\n",
    "\n",
    "os.mkdir('results/mass_sigmamodx8/')\n",
    "\n",
    "run_description = 'start_year = 2007; end_year = 2015; grid_size = N/A; residual_sigma_multiplier = 8;'\n",
    "\n",
    "txt_file = open('results/mass_sigmamodx8/description.txt', 'w')\n",
    "txt_file.write(run_description)\n",
    "txt_file.close()\n",
    "\n",
    "pickle.dump({'s_j': None, 'w_j': weights_mv_sigmamodx8}, open('results/mass_sigmamodx8/weights.p', 'wb'))\n"
   ]
  },
  {
   "cell_type": "code",
   "execution_count": null,
   "id": "neural-passenger",
   "metadata": {},
   "outputs": [],
   "source": []
  }
 ],
 "metadata": {
  "kernelspec": {
   "display_name": "Python 3",
   "language": "python",
   "name": "python3"
  },
  "language_info": {
   "codemirror_mode": {
    "name": "ipython",
    "version": 3
   },
   "file_extension": ".py",
   "mimetype": "text/x-python",
   "name": "python",
   "nbconvert_exporter": "python",
   "pygments_lexer": "ipython3",
   "version": "3.8.8"
  }
 },
 "nbformat": 4,
 "nbformat_minor": 5
}
